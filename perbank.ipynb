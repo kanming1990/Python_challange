{
 "cells": [
  {
   "cell_type": "code",
   "execution_count": 9,
   "metadata": {},
   "outputs": [
    {
     "name": "stdout",
     "output_type": "stream",
     "text": [
      "we have total42Months\n",
      "the total revenue in these period is18971412\n",
      "the average of change between each period is-6758.975\n",
      "the biggest increase in this list is1837235\n",
      "the biggest increase in this list is-1779747\n",
      "we have total42Months\n"
     ]
    }
   ],
   "source": [
    "import csv\n",
    "import numpy\n",
    "#open file\n",
    "f = open('budget.csv')\n",
    "csv_f = csv.reader(f)\n",
    "title = []\n",
    "price = []\n",
    "\n",
    "for row in csv_f:\n",
    "    title.append(row[0])\n",
    "    price.append(row[1])\n",
    "    Numbers_Month=len(title)\n",
    "print(\"we have total\" + str(Numbers_Month) + \"Months\") \n",
    "\n",
    "# I remove first one in list to caculate total    \n",
    "price.remove(\"Revenue\")\n",
    "\n",
    "# for some reasons,I have to convert to inter to cacu, make a new price list\n",
    "new_price = []\n",
    "for item in price:\n",
    "    new_price.append(int(item))\n",
    "\n",
    "Sum_of_Revenue=sum(new_price)\n",
    "print(\"the total revenue in these period is\"+str(Sum_of_Revenue))\n",
    "# have some difficulties in loop to find the difference. I  find this method\n",
    "v = numpy.diff(new_price)\n",
    "difference_average=numpy.average(v)\n",
    "print(\"the average of change between each period is\"+ str(difference_average))\n",
    "\n",
    "biggest_increase= max(v)\n",
    "biggest_decrease= min(v)\n",
    "# In plan, I want to find a index in number difference, use this index to find which month has the biggest jump. It does \n",
    "#work finally\n",
    "print(\"the biggest increase in this list is\" + str(biggest_increase))\n",
    "print(\"the biggest increase in this list is\" + str(biggest_decrease))\n",
    "print(\"we have total\" + str(Numbers_Month) + \"Months\")\n",
    "\n"
   ]
  },
  {
   "cell_type": "code",
   "execution_count": null,
   "metadata": {},
   "outputs": [],
   "source": []
  },
  {
   "cell_type": "code",
   "execution_count": null,
   "metadata": {},
   "outputs": [],
   "source": []
  },
  {
   "cell_type": "code",
   "execution_count": null,
   "metadata": {},
   "outputs": [],
   "source": []
  },
  {
   "cell_type": "code",
   "execution_count": null,
   "metadata": {},
   "outputs": [],
   "source": []
  },
  {
   "cell_type": "code",
   "execution_count": null,
   "metadata": {},
   "outputs": [],
   "source": []
  },
  {
   "cell_type": "code",
   "execution_count": null,
   "metadata": {},
   "outputs": [],
   "source": []
  },
  {
   "cell_type": "code",
   "execution_count": null,
   "metadata": {},
   "outputs": [],
   "source": []
  },
  {
   "cell_type": "code",
   "execution_count": null,
   "metadata": {},
   "outputs": [],
   "source": []
  },
  {
   "cell_type": "code",
   "execution_count": null,
   "metadata": {},
   "outputs": [],
   "source": []
  }
 ],
 "metadata": {
  "kernelspec": {
   "display_name": "Python [conda env:pythondata]",
   "language": "python",
   "name": "conda-env-pythondata-py"
  },
  "language_info": {
   "codemirror_mode": {
    "name": "ipython",
    "version": 3
   },
   "file_extension": ".py",
   "mimetype": "text/x-python",
   "name": "python",
   "nbconvert_exporter": "python",
   "pygments_lexer": "ipython3",
   "version": "3.6.4"
  }
 },
 "nbformat": 4,
 "nbformat_minor": 2
}
