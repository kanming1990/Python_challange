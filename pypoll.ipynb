{
 "cells": [
  {
   "cell_type": "code",
   "execution_count": 14,
   "metadata": {
    "scrolled": true
   },
   "outputs": [
    {
     "name": "stdout",
     "output_type": "stream",
     "text": [
      "There is total803000votes\n",
      "Vestalhaspercentage of win: 0.48\n",
      "385440votes\n",
      "Torreshaspercentage of win: 0.44\n",
      "353320votes\n",
      "Sethhaspercentage of win: 0.05\n",
      "40150votes\n",
      "Cordinhaspercentage of win: 0.03\n",
      "24090votes\n",
      "Vestalis the winner\n"
     ]
    }
   ],
   "source": [
    "import csv\n",
    "from collections import Counter\n",
    "#open file\n",
    "f = open('election_data.csv')\n",
    "csv_f = csv.reader(f)\n",
    "votes = []\n",
    "\n",
    "\n",
    "for row in csv_f:\n",
    "    votes.append(row[2])\n",
    "votes.remove(\"Candidate\")\n",
    "Total_vote=len(votes)\n",
    "print(\"There is total\"+str(Total_vote)+ \"votes\")\n",
    "Counter(votes)\n",
    "summary=Counter(votes)\n",
    "for key, value in summary.items():\n",
    "    percent=float(value)/float(Total_vote)\n",
    "    print( key + \"has\" + \"percentage of win:\", str(percent))\n",
    "    print(str(value)+\"votes\")\n",
    "    \n",
    "who_is_the_winner=max(summary)\n",
    "\n",
    "print(who_is_the_winner +\"is the winner\")\n",
    "\n",
    "        \n",
    "\n",
    "\n"
   ]
  },
  {
   "cell_type": "code",
   "execution_count": null,
   "metadata": {},
   "outputs": [],
   "source": []
  },
  {
   "cell_type": "code",
   "execution_count": null,
   "metadata": {},
   "outputs": [],
   "source": []
  }
 ],
 "metadata": {
  "kernelspec": {
   "display_name": "Python [conda env:pythondata]",
   "language": "python",
   "name": "conda-env-pythondata-py"
  },
  "language_info": {
   "codemirror_mode": {
    "name": "ipython",
    "version": 3
   },
   "file_extension": ".py",
   "mimetype": "text/x-python",
   "name": "python",
   "nbconvert_exporter": "python",
   "pygments_lexer": "ipython3",
   "version": "3.6.4"
  }
 },
 "nbformat": 4,
 "nbformat_minor": 2
}
